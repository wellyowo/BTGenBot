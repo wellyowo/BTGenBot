{
 "cells": [
  {
   "cell_type": "markdown",
   "metadata": {},
   "source": [
    "# Logging huggingface for auth "
   ]
  },
  {
   "cell_type": "code",
   "execution_count": 2,
   "metadata": {},
   "outputs": [
    {
     "name": "stdout",
     "output_type": "stream",
     "text": [
      "\u001b[33mWARNING: The directory '/home/.cache/pip' or its parent directory is not owned or is not writable by the current user. The cache has been disabled. Check the permissions and owner of that directory. If executing pip with sudo, you should use sudo's -H flag.\u001b[0m\u001b[33m\n",
      "\u001b[0m\u001b[33mWARNING: Running pip as the 'root' user can result in broken permissions and conflicting behaviour with the system package manager. It is recommended to use a virtual environment instead: https://pip.pypa.io/warnings/venv\u001b[0m\u001b[33m\n",
      "\u001b[0m"
     ]
    },
    {
     "data": {
      "application/vnd.jupyter.widget-view+json": {
       "model_id": "983694cd940f4866bb2d02ab60aac46f",
       "version_major": 2,
       "version_minor": 0
      },
      "text/plain": [
       "VBox(children=(HTML(value='<center> <img\\nsrc=https://huggingface.co/front/assets/huggingface_logo-noborder.sv…"
      ]
     },
     "metadata": {},
     "output_type": "display_data"
    }
   ],
   "source": [
    "# Check requirements\n",
    "!pip3 install -q -r requirements.txt\n",
    "from huggingface_hub import notebook_login\n",
    "\n",
    "notebook_login()"
   ]
  },
  {
   "cell_type": "code",
   "execution_count": 3,
   "metadata": {},
   "outputs": [],
   "source": [
    "import os\n",
    "\n",
    "notebook_directory = os.path.dirname(os.path.abspath(\"__file__\"))\n",
    "directory = os.path.join(notebook_directory, \"generation_result\")\n",
    "if not os.path.exists(directory):\n",
    "\tos.makedirs(directory)\n"
   ]
  },
  {
   "cell_type": "markdown",
   "metadata": {},
   "source": [
    "# Import needed library and model"
   ]
  },
  {
   "cell_type": "code",
   "execution_count": 4,
   "metadata": {},
   "outputs": [],
   "source": [
    "from transformers import AutoModelForCausalLM, AutoTokenizer, BitsAndBytesConfig\n",
    "from peft import PeftModel\n",
    "import torch, accelerate\n",
    "\n",
    "# Models path\n",
    "codellama_model = 'codellama/CodeLlama-7b-Instruct-hf'\n",
    "\n",
    "# Adapters path\n",
    "codellama_adapter = 'AIRLab-POLIMI/codellama-7b-instruct-hf-btgenbot-adapter'"
   ]
  },
  {
   "cell_type": "markdown",
   "metadata": {},
   "source": [
    "# Postprocess function"
   ]
  },
  {
   "cell_type": "code",
   "execution_count": 5,
   "metadata": {},
   "outputs": [],
   "source": [
    "import re\n",
    "def extract_behavior_tree(result):\n",
    "    # Define regular expression pattern to extract the behavior tree from the complete output\n",
    "    pattern = r'<root .*?</root>'\n",
    "    matches = re.findall(pattern, result, re.DOTALL)\n",
    "\n",
    "    if matches:\n",
    "        final_tree = matches[-1]\n",
    "        print(final_tree)\n",
    "        return final_tree\n",
    "    else:\n",
    "        print(\"No start root of behavior tree please check the output\")\n",
    "    return None \n",
    "\n"
   ]
  },
  {
   "cell_type": "markdown",
   "metadata": {},
   "source": [
    "# Load pretrained codellama_model "
   ]
  },
  {
   "cell_type": "code",
   "execution_count": 10,
   "metadata": {},
   "outputs": [
    {
     "data": {
      "application/vnd.jupyter.widget-view+json": {
       "model_id": "a678aa21f5fe48c89e020dd73776c107",
       "version_major": 2,
       "version_minor": 0
      },
      "text/plain": [
       "Loading checkpoint shards:   0%|          | 0/2 [00:00<?, ?it/s]"
      ]
     },
     "metadata": {},
     "output_type": "display_data"
    }
   ],
   "source": [
    "# Select here the model and the corresponding adapter\n",
    "cache_dir = '/home/arg/BTGenBot/model'\n",
    "model_id = codellama_model\n",
    "adapter_id = codellama_adapter\n",
    "\n",
    "quantization_config = BitsAndBytesConfig(load_in_8bit=True)\n",
    "\n",
    "# Load tokenizer\n",
    "tokenizer = AutoTokenizer.from_pretrained(\n",
    "    pretrained_model_name_or_path = model_id,\n",
    "    cache_dir=cache_dir\n",
    ")\n",
    "\n",
    "# Load base model\n",
    "base_model = AutoModelForCausalLM.from_pretrained(\n",
    "    pretrained_model_name_or_path = model_id,\n",
    "    quantization_config = quantization_config,\n",
    "    torch_dtype = torch.float16,\n",
    "    device_map = \"auto\",\n",
    "    trust_remote_code = True,\n",
    "    cache_dir=cache_dir\n",
    ")"
   ]
  },
  {
   "cell_type": "markdown",
   "metadata": {},
   "source": [
    "# Load Task description, similar example task"
   ]
  },
  {
   "cell_type": "markdown",
   "metadata": {},
   "source": [
    "## Sample task of paper"
   ]
  },
  {
   "cell_type": "code",
   "execution_count": 11,
   "metadata": {},
   "outputs": [],
   "source": [
    "context = \"<<SYS>> You will be provided a summary of a task performed by a behavior tree, and your objective is to express this behavior tree in XML format.\\n <</SYS>>\"\n",
    "task = \"\"\"The behavior tree represents a robot's navigation system with arm activity. The robot must visit the location \"ArucoStand\", then follow the arucos given their IDs: 10, 1, and 7. Finally the robot reset the manipulator to the parking position and goes to the location \"Parking\". The only available actions that must be used in the behavior tree are: \"MoveTo\", \"FollowAruco\" and \"ResetManipulator\".\"\"\"\n",
    "\n",
    "# One-shot example\n",
    "example_task = \"\"\"The behavior tree represents a robot's navigation system with arm activity. The robot must visit the location \"Station A\", then follow the aruco with ID=7. The only available actions that must be used in the behavior tree are: \"MoveTo\", \"FollowAruco\".\"\"\"\n",
    "example_output = \"\"\"\n",
    "<root main_tree_to_execute = \"MainTree\" >\n",
    "    <BehaviorTree ID=\"MainTree\">\n",
    "        <Sequence>\n",
    "            <MoveTo location=\"Station A\"/>\n",
    "            <FollowAruco id=\"7\"/>\n",
    "        </Sequence>\n",
    "    </BehaviorTree>\n",
    "</root>\n",
    "\"\"\""
   ]
  },
  {
   "cell_type": "markdown",
   "metadata": {},
   "source": [
    "# Inference of pretrain base model"
   ]
  },
  {
   "cell_type": "code",
   "execution_count": 12,
   "metadata": {},
   "outputs": [],
   "source": [
    "eval_prompt = \"<s>[INST]\" + context + example_task + \"[/INST]</s>\" + example_output + \"[INST]\" + task + \"[/INST]\"\n",
    "model_input = tokenizer(eval_prompt, return_tensors=\"pt\").to(\"cuda\")"
   ]
  },
  {
   "cell_type": "code",
   "execution_count": 13,
   "metadata": {},
   "outputs": [
    {
     "name": "stderr",
     "output_type": "stream",
     "text": [
      "Setting `pad_token_id` to `eos_token_id`:2 for open-end generation.\n"
     ]
    },
    {
     "name": "stdout",
     "output_type": "stream",
     "text": [
      "Generation result of base model\n",
      "[INST]<<SYS>> You will be provided a summary of a task performed by a behavior tree, and your objective is to express this behavior tree in XML format.\n",
      " <</SYS>>The behavior tree represents a robot's navigation system with arm activity. The robot must visit the location \"Station A\", then follow the aruco with ID=7. The only available actions that must be used in the behavior tree are: \"MoveTo\", \"FollowAruco\".[/INST] \n",
      "<root main_tree_to_execute = \"MainTree\" >\n",
      "    <BehaviorTree ID=\"MainTree\">\n",
      "        <Sequence>\n",
      "            <MoveTo location=\"Station A\"/>\n",
      "            <FollowAruco id=\"7\"/>\n",
      "        </Sequence>\n",
      "    </BehaviorTree>\n",
      "</root>\n",
      "[INST]The behavior tree represents a robot's navigation system with arm activity. The robot must visit the location \"ArucoStand\", then follow the arucos given their IDs: 10, 1, and 7. Finally the robot reset the manipulator to the parking position and goes to the location \"Parking\". The only available actions that must be used in the behavior tree are: \"MoveTo\", \"FollowAruco\" and \"ResetManipulator\".[/INST]  <root main_tree_to_execute = \"MainTree\" >\n",
      "    <BehaviorTree ID=\"MainTree\">\n",
      "        <Sequence>\n",
      "            <MoveTo location=\"ArucoStand\"/>\n",
      "            <FollowAruco id=\"10\"/>\n",
      "            <FollowAruco id=\"1\"/>\n",
      "            <FollowAruco id=\"7\"/>\n",
      "            <ResetManipulator/>\n",
      "            <MoveTo location=\"Parking\"/>\n",
      "        </Sequence>\n",
      "    </BehaviorTree>\n",
      "</root>\n",
      "--------------------------------------------------------------------\n",
      "<root main_tree_to_execute = \"MainTree\" >\n",
      "    <BehaviorTree ID=\"MainTree\">\n",
      "        <Sequence>\n",
      "            <MoveTo location=\"ArucoStand\"/>\n",
      "            <FollowAruco id=\"10\"/>\n",
      "            <FollowAruco id=\"1\"/>\n",
      "            <FollowAruco id=\"7\"/>\n",
      "            <ResetManipulator/>\n",
      "            <MoveTo location=\"Parking\"/>\n",
      "        </Sequence>\n",
      "    </BehaviorTree>\n",
      "</root>\n",
      "<root main_tree_to_execute = \"MainTree\" >\n",
      "    <BehaviorTree ID=\"MainTree\">\n",
      "        <Sequence>\n",
      "            <MoveTo location=\"ArucoStand\"/>\n",
      "            <FollowAruco id=\"10\"/>\n",
      "            <FollowAruco id=\"1\"/>\n",
      "            <FollowAruco id=\"7\"/>\n",
      "            <ResetManipulator/>\n",
      "            <MoveTo location=\"Parking\"/>\n",
      "        </Sequence>\n",
      "    </BehaviorTree>\n",
      "</root>\n",
      "--------------------------------------------------------------------\n"
     ]
    }
   ],
   "source": [
    "base_model.eval()\n",
    "with torch.no_grad():\n",
    "    result = tokenizer.decode(base_model.generate(**model_input, max_new_tokens=1000)[0], skip_special_tokens=True)\n",
    "    print(\"Generation result of base model\")\n",
    "    print(result)\n",
    "    print(\"--------------------------------------------------------------------\")\n",
    "    xml_tree_base  = extract_behavior_tree(result)\n",
    "    print(xml_tree_base)\n",
    "    print(\"--------------------------------------------------------------------\")"
   ]
  },
  {
   "cell_type": "code",
   "execution_count": 14,
   "metadata": {},
   "outputs": [],
   "source": [
    "response_base = os.path.join(directory, \"response_base.txt\")\n",
    "with open(response_base, \"w+\") as file:\n",
    "    file.write(result)\n",
    "    \n",
    "xml_base_filename = os.path.join(directory, \"response_base_xml_tree.txt\")\n",
    "with open(xml_base_filename, \"w+\") as file:\n",
    "    file.write(xml_tree_base)"
   ]
  },
  {
   "cell_type": "markdown",
   "metadata": {},
   "source": [
    "# Inference of finetune model"
   ]
  },
  {
   "cell_type": "code",
   "execution_count": 15,
   "metadata": {},
   "outputs": [
    {
     "data": {
      "application/vnd.jupyter.widget-view+json": {
       "model_id": "5a82fdf171824c099d429b99a7ef6b78",
       "version_major": 2,
       "version_minor": 0
      },
      "text/plain": [
       "adapter_config.json:   0%|          | 0.00/578 [00:00<?, ?B/s]"
      ]
     },
     "metadata": {},
     "output_type": "display_data"
    },
    {
     "data": {
      "application/vnd.jupyter.widget-view+json": {
       "model_id": "f15d79fad7014cbca228fce6a7c857c1",
       "version_major": 2,
       "version_minor": 0
      },
      "text/plain": [
       "adapter_model.bin:   0%|          | 0.00/80.1M [00:00<?, ?B/s]"
      ]
     },
     "metadata": {},
     "output_type": "display_data"
    },
    {
     "name": "stderr",
     "output_type": "stream",
     "text": [
      "/usr/local/lib/python3.11/dist-packages/peft/tuners/lora/bnb.py:83: UserWarning: Merge lora module to 8-bit linear may get different generations due to rounding errors.\n",
      "  warnings.warn(\n"
     ]
    }
   ],
   "source": [
    "# Load fine-tuned model\n",
    "finetuned_model = PeftModel.from_pretrained(base_model, adapter_id)\n",
    "finetuned_model = finetuned_model.merge_and_unload()"
   ]
  },
  {
   "cell_type": "code",
   "execution_count": 16,
   "metadata": {},
   "outputs": [
    {
     "name": "stderr",
     "output_type": "stream",
     "text": [
      "Setting `pad_token_id` to `eos_token_id`:2 for open-end generation.\n"
     ]
    },
    {
     "name": "stdout",
     "output_type": "stream",
     "text": [
      "Generation result of finetune model\n",
      "[INST]<<SYS>> You will be provided a summary of a task performed by a behavior tree, and your objective is to express this behavior tree in XML format.\n",
      " <</SYS>>The behavior tree represents a robot's navigation system with arm activity. The robot must visit the location \"Station A\", then follow the aruco with ID=7. The only available actions that must be used in the behavior tree are: \"MoveTo\", \"FollowAruco\".[/INST] \n",
      "<root main_tree_to_execute = \"MainTree\" >\n",
      "    <BehaviorTree ID=\"MainTree\">\n",
      "        <Sequence>\n",
      "            <MoveTo location=\"Station A\"/>\n",
      "            <FollowAruco id=\"7\"/>\n",
      "        </Sequence>\n",
      "    </BehaviorTree>\n",
      "</root>\n",
      "[INST]The behavior tree represents a robot's navigation system with arm activity. The robot must visit the location \"ArucoStand\", then follow the arucos given their IDs: 10, 1, and 7. Finally the robot reset the manipulator to the parking position and goes to the location \"Parking\". The only available actions that must be used in the behavior tree are: \"MoveTo\", \"FollowAruco\" and \"ResetManipulator\".[/INST]  <root main_tree_to_execute = \"MainTree\" >\n",
      "    <BehaviorTree ID=\"MainTree\">\n",
      "        <Sequence>\n",
      "            <MoveTo location=\"ArucoStand\"/>\n",
      "            <FollowAruco id=\"10\"/>\n",
      "            <FollowAruco id=\"1\"/>\n",
      "            <FollowAruco id=\"7\"/>\n",
      "            <ResetManipulator/>\n",
      "            <MoveTo location=\"Parking\"/>\n",
      "        </Sequence>\n",
      "    </BehaviorTree>\n",
      "</root>\n",
      "\n",
      "--------------------------------------------------------------------\n",
      "<root main_tree_to_execute = \"MainTree\" >\n",
      "    <BehaviorTree ID=\"MainTree\">\n",
      "        <Sequence>\n",
      "            <MoveTo location=\"ArucoStand\"/>\n",
      "            <FollowAruco id=\"10\"/>\n",
      "            <FollowAruco id=\"1\"/>\n",
      "            <FollowAruco id=\"7\"/>\n",
      "            <ResetManipulator/>\n",
      "            <MoveTo location=\"Parking\"/>\n",
      "        </Sequence>\n",
      "    </BehaviorTree>\n",
      "</root>\n",
      "<root main_tree_to_execute = \"MainTree\" >\n",
      "    <BehaviorTree ID=\"MainTree\">\n",
      "        <Sequence>\n",
      "            <MoveTo location=\"ArucoStand\"/>\n",
      "            <FollowAruco id=\"10\"/>\n",
      "            <FollowAruco id=\"1\"/>\n",
      "            <FollowAruco id=\"7\"/>\n",
      "            <ResetManipulator/>\n",
      "            <MoveTo location=\"Parking\"/>\n",
      "        </Sequence>\n",
      "    </BehaviorTree>\n",
      "</root>\n",
      "--------------------------------------------------------------------\n"
     ]
    }
   ],
   "source": [
    "finetuned_model.eval()\n",
    "with torch.no_grad():\n",
    "    fine_tune_result = tokenizer.decode(finetuned_model.generate(**model_input, max_new_tokens=1000)[0], skip_special_tokens=True)\n",
    "    print(\"Generation result of finetune model\")\n",
    "    print(fine_tune_result)\n",
    "    print(\"--------------------------------------------------------------------\")\n",
    "    xml_tree_finetune = extract_behavior_tree(fine_tune_result)\n",
    "    print(xml_tree_finetune)\n",
    "    print(\"--------------------------------------------------------------------\")"
   ]
  },
  {
   "cell_type": "code",
   "execution_count": 17,
   "metadata": {},
   "outputs": [],
   "source": [
    "response_finetune = os.path.join(directory, \"response_finetune.txt\")\n",
    "with open(response_finetune, \"w+\") as file:\n",
    "    file.write(fine_tune_result)\n",
    "    \n",
    "xml_fintune_filename = os.path.join(directory, \"response_finetune_xml_tree.txt\")\n",
    "with open(xml_fintune_filename, \"w+\") as file:\n",
    "    file.write(xml_tree_finetune)"
   ]
  },
  {
   "cell_type": "markdown",
   "metadata": {},
   "source": [
    "# Turn XML behavior tree to CMU symbolic tree version "
   ]
  },
  {
   "cell_type": "code",
   "execution_count": null,
   "metadata": {},
   "outputs": [],
   "source": []
  },
  {
   "cell_type": "code",
   "execution_count": null,
   "metadata": {},
   "outputs": [],
   "source": []
  }
 ],
 "metadata": {
  "kernelspec": {
   "display_name": "Python 3 (ipykernel)",
   "language": "python",
   "name": "python3"
  },
  "language_info": {
   "codemirror_mode": {
    "name": "ipython",
    "version": 3
   },
   "file_extension": ".py",
   "mimetype": "text/x-python",
   "name": "python",
   "nbconvert_exporter": "python",
   "pygments_lexer": "ipython3",
   "version": "3.11.9"
  }
 },
 "nbformat": 4,
 "nbformat_minor": 4
}
